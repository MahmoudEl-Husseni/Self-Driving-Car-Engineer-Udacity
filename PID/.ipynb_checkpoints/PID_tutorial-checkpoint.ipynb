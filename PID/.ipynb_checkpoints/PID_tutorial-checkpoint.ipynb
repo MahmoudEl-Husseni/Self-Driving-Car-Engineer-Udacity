{
 "cells": [
  {
   "cell_type": "markdown",
   "metadata": {},
   "source": [
    "# PID: \n",
    "\n",
    "### Contents: \n",
    "1- [P-Controller](#P)"
   ]
  },
  {
   "cell_type": "code",
   "execution_count": 1,
   "metadata": {},
   "outputs": [],
   "source": [
    "import numpy as np\n",
    "from robot import Robot"
   ]
  },
  {
   "cell_type": "markdown",
   "metadata": {},
   "source": [
    "### First: class robot discovering"
   ]
  },
  {
   "cell_type": "code",
   "execution_count": 14,
   "metadata": {},
   "outputs": [
    {
     "name": "stdout",
     "output_type": "stream",
     "text": [
      "x :  0.0\n",
      "y :  0.0\n",
      "orientation :  0.0\n",
      "length :  20.0\n",
      "steering_noise :  0.0\n",
      "distance_noise :  0.0\n",
      "steering_drift :  0.0\n"
     ]
    }
   ],
   "source": [
    "# Create robot: each robot must have x, y, orientation, stearing_drift\n",
    "#                                    stearing_noise, distance_noise\n",
    "\n",
    "r = Robot()\n",
    "for key, value in r.__dict__.items():\n",
    "    print(key, \": \", value)"
   ]
  },
  {
   "cell_type": "code",
   "execution_count": 18,
   "metadata": {},
   "outputs": [
    {
     "name": "stdout",
     "output_type": "stream",
     "text": [
      "x :  10\n",
      "y :  20\n",
      "orientation :  3.141592653589793\n",
      "length :  20.0\n",
      "steering_noise :  0.0\n",
      "distance_noise :  0.0\n",
      "steering_drift :  0.0\n"
     ]
    }
   ],
   "source": [
    "# Set robot values: \n",
    "# 1) set x, y, orientation\n",
    "x = 10\n",
    "y = 20\n",
    "orientation = np.pi \n",
    "r.set(x, y, orientation)\n",
    "for key, value in r.__dict__.items():\n",
    "    print(key, \": \", value)"
   ]
  },
  {
   "cell_type": "code",
   "execution_count": null,
   "metadata": {},
   "outputs": [],
   "source": [
    "# move: it takes speed(distance) and steering angle at the moving, "
   ]
  },
  {
   "cell_type": "markdown",
   "metadata": {},
   "source": [
    "<a id='P'></a>\n",
    "# P-Controller "
   ]
  },
  {
   "cell_type": "code",
   "execution_count": 2,
   "metadata": {},
   "outputs": [],
   "source": [
    "r = Robot()"
   ]
  },
  {
   "cell_type": "code",
   "execution_count": 3,
   "metadata": {},
   "outputs": [
    {
     "data": {
      "text/plain": [
       "0.0"
      ]
     },
     "execution_count": 3,
     "metadata": {},
     "output_type": "execute_result"
    }
   ],
   "source": [
    "r.set()"
   ]
  }
 ],
 "metadata": {
  "kernelspec": {
   "display_name": "Python 3 (ipykernel)",
   "language": "python",
   "name": "python3"
  },
  "language_info": {
   "codemirror_mode": {
    "name": "ipython",
    "version": 3
   },
   "file_extension": ".py",
   "mimetype": "text/x-python",
   "name": "python",
   "nbconvert_exporter": "python",
   "pygments_lexer": "ipython3",
   "version": "3.8.10"
  },
  "vscode": {
   "interpreter": {
    "hash": "916dbcbb3f70747c44a77c7bcd40155683ae19c65e1c03b4aa3499c5328201f1"
   }
  }
 },
 "nbformat": 4,
 "nbformat_minor": 2
}
